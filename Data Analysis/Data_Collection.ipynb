{
 "cells": [
  {
   "cell_type": "code",
   "execution_count": 1,
   "metadata": {},
   "outputs": [],
   "source": [
    "# Importing Required libraries\n",
    "import matplotlib.pyplot as plt\n",
    "import numpy as np\n",
    "import pandas as pd\n",
    "from sklearn.preprocessing import StandardScaler\n",
    "from matplotlib.pyplot import figure\n",
    "import datetime\n",
    "import plotly.plotly as py\n",
    "import plotly.graph_objs as go\n",
    "from plotly.offline import download_plotlyjs, init_notebook_mode, plot, iplot"
   ]
  },
  {
   "cell_type": "code",
   "execution_count": 29,
   "metadata": {},
   "outputs": [],
   "source": [
    "pdata = pd.read_csv('ProLnx Database Details/Calculated_Production_2018.csv')\n",
    "cdata = pd.read_csv('Cascade  Database Tables/cascade_2018.csv',low_memory=False)"
   ]
  },
  {
   "cell_type": "code",
   "execution_count": 30,
   "metadata": {},
   "outputs": [
    {
     "data": {
      "text/plain": [
       "Index(['Unnamed: 0', 'wr_sdate', 'wr_mcode', 'wr_count', 'wr_acount',\n",
       "       'wr_stren', 'wr_csp', 'wr_nosmp', 'wr_studyno', 'wr_rh'],\n",
       "      dtype='object')"
      ]
     },
     "execution_count": 30,
     "metadata": {},
     "output_type": "execute_result"
    }
   ],
   "source": [
    "cdata.columns"
   ]
  },
  {
   "cell_type": "code",
   "execution_count": 37,
   "metadata": {},
   "outputs": [
    {
     "data": {
      "text/plain": [
       "Index(['Unnamed: 0', 'pt_date', 'pt_count', 'pt_mcode', 'pt_hanks', 'pt_dlvrs',\n",
       "       'pt_stdhnk', 'pt_nomhnk', 'pt_idlespnper', 'pt_tc', 'pt_crsec',\n",
       "       'pt_ssdur', 'pt_lsdur', 'pt_stdgpss', 'std_prod', 'act_prod',\n",
       "       'prod_eff', 'run_dur', 'util', 'stop_dur', 'w_spindles', 'act_gpss'],\n",
       "      dtype='object')"
      ]
     },
     "execution_count": 37,
     "metadata": {},
     "output_type": "execute_result"
    }
   ],
   "source": [
    "pdata.columns"
   ]
  },
  {
   "cell_type": "code",
   "execution_count": 31,
   "metadata": {},
   "outputs": [],
   "source": [
    "pm = list(pdata['pt_mcode'].unique())"
   ]
  },
  {
   "cell_type": "code",
   "execution_count": 32,
   "metadata": {},
   "outputs": [],
   "source": [
    "cm = list(cdata['wr_mcode'].unique())"
   ]
  },
  {
   "cell_type": "code",
   "execution_count": 33,
   "metadata": {},
   "outputs": [],
   "source": [
    "common_m = list(set(pm).intersection(cm))"
   ]
  },
  {
   "cell_type": "code",
   "execution_count": 34,
   "metadata": {},
   "outputs": [
    {
     "name": "stdout",
     "output_type": "stream",
     "text": [
      "72\n",
      "79\n"
     ]
    },
    {
     "data": {
      "text/plain": [
       "46"
      ]
     },
     "execution_count": 34,
     "metadata": {},
     "output_type": "execute_result"
    }
   ],
   "source": [
    "print(len(pm))\n",
    "print(len(cm))\n",
    "len(common_m)"
   ]
  },
  {
   "cell_type": "code",
   "execution_count": 36,
   "metadata": {},
   "outputs": [
    {
     "data": {
      "text/plain": [
       "['RF-01',\n",
       " 'RF-02',\n",
       " 'RF-03',\n",
       " 'RF-04',\n",
       " 'RF-05',\n",
       " 'RF-06',\n",
       " 'RF-07',\n",
       " 'RF-08',\n",
       " 'RF-09',\n",
       " 'RF-10',\n",
       " 'RF-11',\n",
       " 'RF-12',\n",
       " 'RF-13',\n",
       " 'RF-14',\n",
       " 'RF-15',\n",
       " 'RF-16',\n",
       " 'RF-17',\n",
       " 'RF-18',\n",
       " 'RF-19',\n",
       " 'RF-20',\n",
       " 'RF-21',\n",
       " 'RF-22',\n",
       " 'RF-23',\n",
       " 'RF-24',\n",
       " 'RF-25',\n",
       " 'RF-26',\n",
       " 'RF-27',\n",
       " 'RF-28',\n",
       " 'RF-29',\n",
       " 'RF-30',\n",
       " 'RF-31',\n",
       " 'RF-32',\n",
       " 'RF-33',\n",
       " 'RF-34',\n",
       " 'RF-35',\n",
       " 'RF-36',\n",
       " 'RF-37',\n",
       " 'RF-38',\n",
       " 'RF-39',\n",
       " 'RF-40',\n",
       " 'RF-41',\n",
       " 'RF-42',\n",
       " 'RF-43',\n",
       " 'RF-44',\n",
       " 'RF-45',\n",
       " 'RF-46']"
      ]
     },
     "execution_count": 36,
     "metadata": {},
     "output_type": "execute_result"
    }
   ],
   "source": [
    "sorted(common_m)"
   ]
  },
  {
   "cell_type": "code",
   "execution_count": 41,
   "metadata": {},
   "outputs": [],
   "source": [
    "pcounts = list(pdata['pt_count'].unique())"
   ]
  },
  {
   "cell_type": "code",
   "execution_count": 42,
   "metadata": {},
   "outputs": [],
   "source": [
    "ccounts = list(cdata['wr_count'].unique())"
   ]
  },
  {
   "cell_type": "code",
   "execution_count": 49,
   "metadata": {},
   "outputs": [],
   "source": [
    "common_c = list(set(pcounts).intersection(ccounts))"
   ]
  },
  {
   "cell_type": "code",
   "execution_count": 54,
   "metadata": {},
   "outputs": [
    {
     "name": "stdout",
     "output_type": "stream",
     "text": [
      "23\n",
      "48\n"
     ]
    }
   ],
   "source": [
    "print(len(pcounts))\n",
    "print(len(ccounts))"
   ]
  },
  {
   "cell_type": "code",
   "execution_count": 55,
   "metadata": {},
   "outputs": [
    {
     "data": {
      "text/plain": [
       "['20sRWT',\n",
       " '40s CKC',\n",
       " '42s CKC',\n",
       " '42sOPT',\n",
       " '42sRWT',\n",
       " '45s CKC',\n",
       " '48sOPT',\n",
       " '48sRWT',\n",
       " '50 CK',\n",
       " '50PST',\n",
       " '50s CH5*',\n",
       " '50s CKC',\n",
       " '55sOPT',\n",
       " '55sRWT',\n",
       " '60 CW',\n",
       " '60s CH5* - P',\n",
       " '60s CH5* - S',\n",
       " '60s CK',\n",
       " '60s CKC',\n",
       " '60s CWCP-S',\n",
       " '60s OPT',\n",
       " '60sRWT',\n",
       " '63sRWT']"
      ]
     },
     "execution_count": 55,
     "metadata": {},
     "output_type": "execute_result"
    }
   ],
   "source": [
    "sorted(pcounts)"
   ]
  },
  {
   "cell_type": "code",
   "execution_count": 56,
   "metadata": {},
   "outputs": [
    {
     "data": {
      "text/plain": [
       "['10',\n",
       " '100/1CW',\n",
       " '100/2CW',\n",
       " '100CW',\n",
       " '16',\n",
       " '30/2CW',\n",
       " '30C',\n",
       " '30CW',\n",
       " '36CW',\n",
       " '40',\n",
       " '40/1CW',\n",
       " '40/2CW',\n",
       " '40/2K',\n",
       " '40C',\n",
       " '40CW',\n",
       " '40CW  COM',\n",
       " '40CW  SLUB',\n",
       " '40K',\n",
       " '40KW',\n",
       " '50/2CW',\n",
       " '50COM',\n",
       " '50CW',\n",
       " '60/1CW',\n",
       " '60/1CW  slub',\n",
       " '60/2CW',\n",
       " '60C',\n",
       " '60COM',\n",
       " '60CW',\n",
       " '60CW  slub',\n",
       " '67/1CW',\n",
       " '67/2CW',\n",
       " '67cw',\n",
       " '80/2CW',\n",
       " '80C',\n",
       " '80COM',\n",
       " '80COMPACT',\n",
       " '80CW',\n",
       " '80CW COM',\n",
       " '90 CW',\n",
       " '90/1 CW',\n",
       " '90/1CW',\n",
       " '90/2CW',\n",
       " '90C',\n",
       " '90CW',\n",
       " '92 CW',\n",
       " '92/1CW',\n",
       " '92/2CW',\n",
       " '92CW']"
      ]
     },
     "execution_count": 56,
     "metadata": {},
     "output_type": "execute_result"
    }
   ],
   "source": [
    "sorted(ccounts)"
   ]
  },
  {
   "cell_type": "code",
   "execution_count": 57,
   "metadata": {},
   "outputs": [],
   "source": [
    "import seaborn as sns"
   ]
  },
  {
   "cell_type": "code",
   "execution_count": 61,
   "metadata": {},
   "outputs": [
    {
     "data": {
      "text/plain": [
       "<seaborn.axisgrid.PairGrid at 0x19080d1b4e0>"
      ]
     },
     "execution_count": 61,
     "metadata": {},
     "output_type": "execute_result"
    },
    {
     "data": {
      "image/png": "[encoded data removed]",
      "text/plain": [
       "<Figure size 360x360 with 6 Axes>"
      ]
     },
     "metadata": {
      "needs_background": "light"
     },
     "output_type": "display_data"
    }
   ],
   "source": [
    "data  =cdata[['wr_rh','wr_stren','wr_count']]\n",
    "data  = data[data['wr_count']=='30C']\n",
    "sns.pairplot(data[[\"wr_rh\", \"wr_stren\"]], diag_kind=\"kde\")"
   ]
  },
  {
   "cell_type": "code",
   "execution_count": null,
   "metadata": {},
   "outputs": [],
   "source": []
  }
 ],
 "metadata": {
  "kernelspec": {
   "display_name": "Python 3",
   "language": "python",
   "name": "python3"
  },
  "language_info": {
   "codemirror_mode": {
    "name": "ipython",
    "version": 3
   },
   "file_extension": ".py",
   "mimetype": "text/x-python",
   "name": "python",
   "nbconvert_exporter": "python",
   "pygments_lexer": "ipython3",
   "version": "3.7.3"
  }
 },
 "nbformat": 4,
 "nbformat_minor": 2
}
