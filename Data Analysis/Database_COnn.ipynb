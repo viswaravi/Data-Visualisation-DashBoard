{
 "cells": [
  {
   "cell_type": "code",
   "execution_count": 5,
   "metadata": {},
   "outputs": [
    {
     "name": "stdout",
     "output_type": "stream",
     "text": [
      "Opened database successfully\n"
     ]
    }
   ],
   "source": [
    "import psycopg2\n",
    "\n",
    "conn = psycopg2.connect(database=\"ProLnx\", user = \"postgres\", password = \"brougekick77\", host = \"127.0.0.1\", port = \"5432\")\n",
    "\n",
    "print(\"Opened database successfully\")"
   ]
  },
  {
   "cell_type": "code",
   "execution_count": 6,
   "metadata": {},
   "outputs": [
    {
     "data": {
      "text/plain": [
       "'\\ncur = conn.cursor()\\ncur.execute(\"  from COMPANY\")\\nrows = cur.fetchall()\\nfor row in rows:\\n   print \"ID = \", row[0]\\n   print \"NAME = \", row[1]\\n   print \"ADDRESS = \", row[2]\\n   print \"SALARY = \", row[3], \"\\n\"\\n\\nprint(\"Operation done successfully\")\\nconn.close()\\n'"
      ]
     },
     "execution_count": 6,
     "metadata": {},
     "output_type": "execute_result"
    }
   ],
   "source": [
    "'''\n",
    "cur = conn.cursor()\n",
    "cur.execute(\"  from COMPANY\")\n",
    "rows = cur.fetchall()\n",
    "for row in rows:\n",
    "   print \"ID = \", row[0]\n",
    "   print \"NAME = \", row[1]\n",
    "   print \"ADDRESS = \", row[2]\n",
    "   print \"SALARY = \", row[3], \"\\n\"\n",
    "\n",
    "print(\"Operation done successfully\")\n",
    "conn.close()\n",
    "'''"
   ]
  },
  {
   "cell_type": "code",
   "execution_count": 4,
   "metadata": {},
   "outputs": [],
   "source": [
    "conn.close()"
   ]
  },
  {
   "cell_type": "code",
   "execution_count": 7,
   "metadata": {},
   "outputs": [],
   "source": [
    "cur = conn.cursor()\n",
    "cur.execute(\"SELECT DISTINCT pt_count FROM pt\")\n",
    "rows = cur.fetchall()"
   ]
  },
  {
   "cell_type": "code",
   "execution_count": 8,
   "metadata": {},
   "outputs": [
    {
     "name": "stdout",
     "output_type": "stream",
     "text": [
      "45s CKC\n",
      "55sOPT\n",
      "60s CWC-S-SILVER\n",
      "60sCWC-P-SILVER\n",
      "60s CH5* - P\n",
      "50s CHPREM -S\n",
      "50s CKC\n",
      "0.13\n",
      "60s CH5* - S\n",
      "60s OPT\n",
      "60sCKCPREM-S\n",
      "20sRWT\n",
      "42sRWT-36mm\n",
      "50 CK\n",
      "0.130\n",
      "1.5\n",
      "0.140\n",
      "1.4\n",
      "60 CW\n",
      "1.60\n",
      "42sOPT\n",
      "1.2\n",
      "20sOPT\n",
      "62s CWC\n",
      "50s CWC\n",
      "50PST\n",
      "0.0081\n",
      "50s CH5*\n",
      "62s CWC - P\n",
      "42s CKC\n",
      "1.30\n",
      "55sRWT\n",
      "60s CK\n",
      "0.0076\n",
      "48sRWT\n",
      "60CWC-P\n",
      "48sOPT\n",
      "63sRWT\n",
      "50sCKCPREM-P\n",
      "44 CKC\n",
      "60sRWT\n",
      "60s CWCP-S\n",
      "40s CKC\n",
      "55 RWT\n",
      "60s CKC\n",
      "42sRWT\n",
      "60CW-C\n",
      "0.120\n"
     ]
    }
   ],
   "source": [
    "for row in rows:\n",
    "    print(row[0])"
   ]
  },
  {
   "cell_type": "code",
   "execution_count": null,
   "metadata": {},
   "outputs": [],
   "source": [
    "cur = conn.cursor()\n",
    "cur.execute(\"SELECT * FROM pt WHERE \")\n",
    "rows = cur.fetchall()"
   ]
  }
 ],
 "metadata": {
  "kernelspec": {
   "display_name": "Python 3",
   "language": "python",
   "name": "python3"
  },
  "language_info": {
   "codemirror_mode": {
    "name": "ipython",
    "version": 3
   },
   "file_extension": ".py",
   "mimetype": "text/x-python",
   "name": "python",
   "nbconvert_exporter": "python",
   "pygments_lexer": "ipython3",
   "version": "3.7.3"
  }
 },
 "nbformat": 4,
 "nbformat_minor": 2
}
