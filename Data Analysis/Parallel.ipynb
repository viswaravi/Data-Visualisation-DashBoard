{
 "cells": [
  {
   "cell_type": "code",
   "execution_count": 1,
   "metadata": {},
   "outputs": [],
   "source": [
    "import numpy as np\n",
    "import pandas as pd"
   ]
  },
  {
   "cell_type": "code",
   "execution_count": 4,
   "metadata": {},
   "outputs": [
    {
     "name": "stdout",
     "output_type": "stream",
     "text": [
      "7.27 s ± 156 ms per loop (mean ± std. dev. of 3 runs, 3 loops each)\n"
     ]
    }
   ],
   "source": [
    "%%timeit -n 3 -r 3\n",
    "ts_features = feature_calculation(ts_df)"
   ]
  },
  {
   "cell_type": "code",
   "execution_count": null,
   "metadata": {},
   "outputs": [],
   "source": [
    "%%timeit -n 3 -r 3\n",
    "ts_features_parallel = parallel_feature_calculation(ts_df, partitions=14, processes=7)"
   ]
  },
  {
   "cell_type": "code",
   "execution_count": 57,
   "metadata": {},
   "outputs": [
    {
     "name": "stdout",
     "output_type": "stream",
     "text": [
      "{1: 1, 3: 3, 2: 2}\n"
     ]
    }
   ],
   "source": [
    "from multiprocessing import Pool\n",
    "import workers\n",
    "from itertools import repeat\n",
    "\n",
    "from multiprocessing import Process, Manager\n",
    "\n",
    "if __name__ ==  '__main__':\n",
    "    manager = Manager()\n",
    "    d = manager.dict()\n",
    "    num_processors = 3\n",
    "    my_str = ''\n",
    "    a_args = [1,2,3]\n",
    "    b_args = repeat(d,len(a_args))\n",
    "    p=Pool(processes = num_processors)\n",
    "    p.map(workers.worker,zip(a_args,b_args))\n",
    "    print(d)"
   ]
  },
  {
   "cell_type": "code",
   "execution_count": 25,
   "metadata": {},
   "outputs": [
    {
     "name": "stdout",
     "output_type": "stream",
     "text": [
      "{2: 2, 1: 1}\n"
     ]
    }
   ],
   "source": [
    "from multiprocessing import Pool\n",
    "import workers\n",
    "from itertools import repeat\n",
    "from multiprocessing import Process, Manager\n",
    "\n",
    "if __name__ ==  '__main__':\n",
    "    manager = Manager()\n",
    "    d = manager.dict()\n",
    "    num_processors = 3\n",
    "    my_str = ''\n",
    "    p=Pool(processes = num_processors)\n",
    "    p1 = Process(target=workers.worker, args=(d,1))\n",
    "    p2 = Process(target=workers.worker, args=(d,2))\n",
    "    p1.start()\n",
    "    p2.start()\n",
    "    p1.join()\n",
    "    p2.join()\n",
    "    print(d)\n"
   ]
  }
 ],
 "metadata": {
  "kernelspec": {
   "display_name": "Python 3",
   "language": "python",
   "name": "python3"
  },
  "language_info": {
   "codemirror_mode": {
    "name": "ipython",
    "version": 3
   },
   "file_extension": ".py",
   "mimetype": "text/x-python",
   "name": "python",
   "nbconvert_exporter": "python",
   "pygments_lexer": "ipython3",
   "version": "3.7.3"
  }
 },
 "nbformat": 4,
 "nbformat_minor": 2
}
