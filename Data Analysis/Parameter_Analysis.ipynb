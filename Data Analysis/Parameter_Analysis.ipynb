{
 "cells": [
  {
   "cell_type": "code",
   "execution_count": 1,
   "metadata": {},
   "outputs": [],
   "source": [
    "# Importing Required libraries\n",
    "import matplotlib.pyplot as plt\n",
    "import numpy as np\n",
    "import pandas as pd\n",
    "from sklearn.preprocessing import StandardScaler\n",
    "from matplotlib.pyplot import figure\n",
    "import datetime\n",
    "import plotly.plotly as py\n",
    "import plotly.graph_objs as go\n",
    "from plotly.offline import download_plotlyjs, init_notebook_mode, plot, iplot"
   ]
  },
  {
   "cell_type": "code",
   "execution_count": 3,
   "metadata": {},
   "outputs": [],
   "source": [
    "pt_df = pd.read_csv('pt.csv',low_memory=False)\n",
    "prod_df =  pt_df[pt_df.pt_date.str.contains('2018$')]\n",
    "prod_df = prod_df [prod_df.pt_mcode.str.contains('^RF')] "
   ]
  },
  {
   "cell_type": "code",
   "execution_count": 9,
   "metadata": {},
   "outputs": [
    {
     "data": {
      "text/plain": [
       "array([3.25, 3.  , 4.  , 3.5 , 4.5 , 2.5 , 3.4 , 5.5 , 4.6 , 1.5 , 4.2 ,\n",
       "       4.55, 5.  , 4.35, 2.06, 1.  ])"
      ]
     },
     "execution_count": 9,
     "metadata": {},
     "output_type": "execute_result"
    }
   ],
   "source": [
    "prod_df['pt_tslip'].unique()"
   ]
  },
  {
   "cell_type": "code",
   "execution_count": 108,
   "metadata": {},
   "outputs": [],
   "source": [
    "#No_Values - 'pt_ppl','pt_avgspd','pt_avgtpi','pt_twast','pt_air','pt_beartemp'\n",
    "#Values     - 'pt_avgdel','pt_hanks','pt_insmpm','pt_avgmpm','pt_inspd','pt_stddel','pt_inssspd','pt_avgsspd','pt_instpi','pt_acttpi','pt_tc'\n",
    "#constant  - 'pt_frppr','pt_dlvrs','pt_drdia'"
   ]
  },
  {
   "cell_type": "code",
   "execution_count": 12,
   "metadata": {},
   "outputs": [],
   "source": [
    "calc_df =  pd.read_csv('calculated.csv',low_memory=False)"
   ]
  },
  {
   "cell_type": "code",
   "execution_count": 13,
   "metadata": {},
   "outputs": [
    {
     "data": {
      "text/plain": [
       "Index(['Unnamed: 0', 'pt_date', 'pt_count', 'pt_mcode', 'pt_hanks', 'pt_dlvrs',\n",
       "       'pt_stdhnk', 'pt_nomhnk', 'pt_idlespnper', 'pt_tc', 'pt_crsec',\n",
       "       'pt_ssdur', 'pt_lsdur', 'pt_stdgpss', 'std_prod', 'act_prod',\n",
       "       'prod_eff', 'run_dur', 'util', 'stop_dur', 'w_spindles', 'act_gpss'],\n",
       "      dtype='object')"
      ]
     },
     "execution_count": 13,
     "metadata": {},
     "output_type": "execute_result"
    }
   ],
   "source": [
    "calc_df.columns"
   ]
  },
  {
   "cell_type": "code",
   "execution_count": 14,
   "metadata": {},
   "outputs": [],
   "source": [
    "prod_df = prod_df[['pt_avgdel','pt_hanks','pt_avgmpm','pt_stddel','pt_avgsspd','pt_acttpi','pt_tc']]"
   ]
  },
  {
   "cell_type": "code",
   "execution_count": 15,
   "metadata": {},
   "outputs": [
    {
     "data": {
      "text/html": [
       "<div>\n",
       "<style scoped>\n",
       "    .dataframe tbody tr th:only-of-type {\n",
       "        vertical-align: middle;\n",
       "    }\n",
       "\n",
       "    .dataframe tbody tr th {\n",
       "        vertical-align: top;\n",
       "    }\n",
       "\n",
       "    .dataframe thead th {\n",
       "        text-align: right;\n",
       "    }\n",
       "</style>\n",
       "<table border=\"1\" class=\"dataframe\">\n",
       "  <thead>\n",
       "    <tr style=\"text-align: right;\">\n",
       "      <th></th>\n",
       "      <th>pt_avgdel</th>\n",
       "      <th>pt_hanks</th>\n",
       "      <th>pt_avgmpm</th>\n",
       "      <th>pt_stddel</th>\n",
       "      <th>pt_avgsspd</th>\n",
       "      <th>pt_acttpi</th>\n",
       "      <th>pt_tc</th>\n",
       "    </tr>\n",
       "  </thead>\n",
       "  <tbody>\n",
       "    <tr>\n",
       "      <th>count</th>\n",
       "      <td>76841.000000</td>\n",
       "      <td>76841.000000</td>\n",
       "      <td>76841.000000</td>\n",
       "      <td>76841.000000</td>\n",
       "      <td>76841.000000</td>\n",
       "      <td>76841.000000</td>\n",
       "      <td>76841.000000</td>\n",
       "    </tr>\n",
       "    <tr>\n",
       "      <th>mean</th>\n",
       "      <td>233.055994</td>\n",
       "      <td>11.474707</td>\n",
       "      <td>19.779428</td>\n",
       "      <td>20.967816</td>\n",
       "      <td>18927.347971</td>\n",
       "      <td>24.168312</td>\n",
       "      <td>1.990880</td>\n",
       "    </tr>\n",
       "    <tr>\n",
       "      <th>std</th>\n",
       "      <td>58.912228</td>\n",
       "      <td>3.136563</td>\n",
       "      <td>5.000266</td>\n",
       "      <td>2.604109</td>\n",
       "      <td>4527.237326</td>\n",
       "      <td>6.039955</td>\n",
       "      <td>0.752962</td>\n",
       "    </tr>\n",
       "    <tr>\n",
       "      <th>min</th>\n",
       "      <td>-7810.750000</td>\n",
       "      <td>0.000000</td>\n",
       "      <td>-662.806950</td>\n",
       "      <td>14.380000</td>\n",
       "      <td>0.000000</td>\n",
       "      <td>0.000000</td>\n",
       "      <td>0.000000</td>\n",
       "    </tr>\n",
       "    <tr>\n",
       "      <th>25%</th>\n",
       "      <td>221.600800</td>\n",
       "      <td>10.504210</td>\n",
       "      <td>18.805006</td>\n",
       "      <td>19.740000</td>\n",
       "      <td>18945.135000</td>\n",
       "      <td>23.167322</td>\n",
       "      <td>1.900000</td>\n",
       "    </tr>\n",
       "    <tr>\n",
       "      <th>50%</th>\n",
       "      <td>235.031510</td>\n",
       "      <td>12.009484</td>\n",
       "      <td>19.945442</td>\n",
       "      <td>20.580000</td>\n",
       "      <td>19976.758000</td>\n",
       "      <td>25.623747</td>\n",
       "      <td>1.990000</td>\n",
       "    </tr>\n",
       "    <tr>\n",
       "      <th>75%</th>\n",
       "      <td>250.614640</td>\n",
       "      <td>13.023899</td>\n",
       "      <td>21.269089</td>\n",
       "      <td>21.750000</td>\n",
       "      <td>20645.271000</td>\n",
       "      <td>26.348124</td>\n",
       "      <td>2.330000</td>\n",
       "    </tr>\n",
       "    <tr>\n",
       "      <th>max</th>\n",
       "      <td>2535.189000</td>\n",
       "      <td>21.596169</td>\n",
       "      <td>215.131840</td>\n",
       "      <td>35.130000</td>\n",
       "      <td>111729.730000</td>\n",
       "      <td>151.644270</td>\n",
       "      <td>2.970000</td>\n",
       "    </tr>\n",
       "  </tbody>\n",
       "</table>\n",
       "</div>"
      ],
      "text/plain": [
       "          pt_avgdel      pt_hanks     pt_avgmpm     pt_stddel     pt_avgsspd  \\\n",
       "count  76841.000000  76841.000000  76841.000000  76841.000000   76841.000000   \n",
       "mean     233.055994     11.474707     19.779428     20.967816   18927.347971   \n",
       "std       58.912228      3.136563      5.000266      2.604109    4527.237326   \n",
       "min    -7810.750000      0.000000   -662.806950     14.380000       0.000000   \n",
       "25%      221.600800     10.504210     18.805006     19.740000   18945.135000   \n",
       "50%      235.031510     12.009484     19.945442     20.580000   19976.758000   \n",
       "75%      250.614640     13.023899     21.269089     21.750000   20645.271000   \n",
       "max     2535.189000     21.596169    215.131840     35.130000  111729.730000   \n",
       "\n",
       "          pt_acttpi         pt_tc  \n",
       "count  76841.000000  76841.000000  \n",
       "mean      24.168312      1.990880  \n",
       "std        6.039955      0.752962  \n",
       "min        0.000000      0.000000  \n",
       "25%       23.167322      1.900000  \n",
       "50%       25.623747      1.990000  \n",
       "75%       26.348124      2.330000  \n",
       "max      151.644270      2.970000  "
      ]
     },
     "execution_count": 15,
     "metadata": {},
     "output_type": "execute_result"
    }
   ],
   "source": [
    "prod_df.describe()"
   ]
  },
  {
   "cell_type": "code",
   "execution_count": 16,
   "metadata": {},
   "outputs": [
    {
     "data": {
      "text/html": [
       "<div>\n",
       "<style scoped>\n",
       "    .dataframe tbody tr th:only-of-type {\n",
       "        vertical-align: middle;\n",
       "    }\n",
       "\n",
       "    .dataframe tbody tr th {\n",
       "        vertical-align: top;\n",
       "    }\n",
       "\n",
       "    .dataframe thead th {\n",
       "        text-align: right;\n",
       "    }\n",
       "</style>\n",
       "<table border=\"1\" class=\"dataframe\">\n",
       "  <thead>\n",
       "    <tr style=\"text-align: right;\">\n",
       "      <th></th>\n",
       "      <th>pt_avgdel</th>\n",
       "      <th>pt_hanks</th>\n",
       "      <th>pt_avgmpm</th>\n",
       "      <th>pt_stddel</th>\n",
       "      <th>pt_avgsspd</th>\n",
       "      <th>pt_acttpi</th>\n",
       "      <th>pt_tc</th>\n",
       "    </tr>\n",
       "  </thead>\n",
       "  <tbody>\n",
       "    <tr>\n",
       "      <th>pt_avgdel</th>\n",
       "      <td>1.000000</td>\n",
       "      <td>0.642392</td>\n",
       "      <td>0.999979</td>\n",
       "      <td>0.365988</td>\n",
       "      <td>0.502695</td>\n",
       "      <td>0.140681</td>\n",
       "      <td>-0.080785</td>\n",
       "    </tr>\n",
       "    <tr>\n",
       "      <th>pt_hanks</th>\n",
       "      <td>0.642392</td>\n",
       "      <td>1.000000</td>\n",
       "      <td>0.642356</td>\n",
       "      <td>0.292205</td>\n",
       "      <td>0.461852</td>\n",
       "      <td>0.148793</td>\n",
       "      <td>-0.075565</td>\n",
       "    </tr>\n",
       "    <tr>\n",
       "      <th>pt_avgmpm</th>\n",
       "      <td>0.999979</td>\n",
       "      <td>0.642356</td>\n",
       "      <td>1.000000</td>\n",
       "      <td>0.365575</td>\n",
       "      <td>0.502992</td>\n",
       "      <td>0.140823</td>\n",
       "      <td>-0.082085</td>\n",
       "    </tr>\n",
       "    <tr>\n",
       "      <th>pt_stddel</th>\n",
       "      <td>0.365988</td>\n",
       "      <td>0.292205</td>\n",
       "      <td>0.365575</td>\n",
       "      <td>1.000000</td>\n",
       "      <td>-0.093290</td>\n",
       "      <td>-0.425189</td>\n",
       "      <td>-0.078255</td>\n",
       "    </tr>\n",
       "    <tr>\n",
       "      <th>pt_avgsspd</th>\n",
       "      <td>0.502695</td>\n",
       "      <td>0.461852</td>\n",
       "      <td>0.502992</td>\n",
       "      <td>-0.093290</td>\n",
       "      <td>1.000000</td>\n",
       "      <td>0.799177</td>\n",
       "      <td>0.007783</td>\n",
       "    </tr>\n",
       "    <tr>\n",
       "      <th>pt_acttpi</th>\n",
       "      <td>0.140681</td>\n",
       "      <td>0.148793</td>\n",
       "      <td>0.140823</td>\n",
       "      <td>-0.425189</td>\n",
       "      <td>0.799177</td>\n",
       "      <td>1.000000</td>\n",
       "      <td>0.106949</td>\n",
       "    </tr>\n",
       "    <tr>\n",
       "      <th>pt_tc</th>\n",
       "      <td>-0.080785</td>\n",
       "      <td>-0.075565</td>\n",
       "      <td>-0.082085</td>\n",
       "      <td>-0.078255</td>\n",
       "      <td>0.007783</td>\n",
       "      <td>0.106949</td>\n",
       "      <td>1.000000</td>\n",
       "    </tr>\n",
       "  </tbody>\n",
       "</table>\n",
       "</div>"
      ],
      "text/plain": [
       "            pt_avgdel  pt_hanks  pt_avgmpm  pt_stddel  pt_avgsspd  pt_acttpi  \\\n",
       "pt_avgdel    1.000000  0.642392   0.999979   0.365988    0.502695   0.140681   \n",
       "pt_hanks     0.642392  1.000000   0.642356   0.292205    0.461852   0.148793   \n",
       "pt_avgmpm    0.999979  0.642356   1.000000   0.365575    0.502992   0.140823   \n",
       "pt_stddel    0.365988  0.292205   0.365575   1.000000   -0.093290  -0.425189   \n",
       "pt_avgsspd   0.502695  0.461852   0.502992  -0.093290    1.000000   0.799177   \n",
       "pt_acttpi    0.140681  0.148793   0.140823  -0.425189    0.799177   1.000000   \n",
       "pt_tc       -0.080785 -0.075565  -0.082085  -0.078255    0.007783   0.106949   \n",
       "\n",
       "               pt_tc  \n",
       "pt_avgdel  -0.080785  \n",
       "pt_hanks   -0.075565  \n",
       "pt_avgmpm  -0.082085  \n",
       "pt_stddel  -0.078255  \n",
       "pt_avgsspd  0.007783  \n",
       "pt_acttpi   0.106949  \n",
       "pt_tc       1.000000  "
      ]
     },
     "execution_count": 16,
     "metadata": {},
     "output_type": "execute_result"
    }
   ],
   "source": [
    "prod_df.corr()"
   ]
  },
  {
   "cell_type": "code",
   "execution_count": null,
   "metadata": {},
   "outputs": [],
   "source": []
  }
 ],
 "metadata": {
  "kernelspec": {
   "display_name": "Python 3",
   "language": "python",
   "name": "python3"
  },
  "language_info": {
   "codemirror_mode": {
    "name": "ipython",
    "version": 3
   },
   "file_extension": ".py",
   "mimetype": "text/x-python",
   "name": "python",
   "nbconvert_exporter": "python",
   "pygments_lexer": "ipython3",
   "version": "3.7.3"
  }
 },
 "nbformat": 4,
 "nbformat_minor": 2
}
